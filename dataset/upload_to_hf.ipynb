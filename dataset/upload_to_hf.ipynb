{
 "cells": [
  {
   "cell_type": "code",
   "execution_count": 1,
   "metadata": {},
   "outputs": [
    {
     "name": "stderr",
     "output_type": "stream",
     "text": [
      "/home/rnanawa1/.conda/envs/rishabh/lib/python3.11/site-packages/tqdm/auto.py:21: TqdmWarning: IProgress not found. Please update jupyter and ipywidgets. See https://ipywidgets.readthedocs.io/en/stable/user_install.html\n",
      "  from .autonotebook import tqdm as notebook_tqdm\n"
     ]
    }
   ],
   "source": [
    "import os\n",
    "import json\n",
    "import wandb\n",
    "import torch\n",
    "import transformers\n",
    "\n",
    "from datasets import load_dataset\n",
    "from pathlib import Path"
   ]
  },
  {
   "cell_type": "code",
   "execution_count": 9,
   "metadata": {},
   "outputs": [],
   "source": [
    "DATASETS = [\n",
    "            # \"minute-dataset\",\n",
    "            # \"mini-dataset\", \n",
    "            # \"medium-dataset\",\n",
    "            \"large-dataset\",\n",
    "            # \"huge-dataset\"\n",
    "            ]"
   ]
  },
  {
   "cell_type": "code",
   "execution_count": 10,
   "metadata": {},
   "outputs": [
    {
     "data": {
      "text/html": [
       "wandb version 0.17.0 is available!  To upgrade, please run:\n",
       " $ pip install wandb --upgrade"
      ],
      "text/plain": [
       "<IPython.core.display.HTML object>"
      ]
     },
     "metadata": {},
     "output_type": "display_data"
    },
    {
     "data": {
      "text/html": [
       "Tracking run with wandb version 0.16.6"
      ],
      "text/plain": [
       "<IPython.core.display.HTML object>"
      ]
     },
     "metadata": {},
     "output_type": "display_data"
    },
    {
     "data": {
      "text/html": [
       "Run data is saved locally in <code>/home/rnanawa1/llm-prompt-recovery/dataset/wandb/run-20240513_000518-ol72y4xz</code>"
      ],
      "text/plain": [
       "<IPython.core.display.HTML object>"
      ]
     },
     "metadata": {},
     "output_type": "display_data"
    },
    {
     "data": {
      "text/html": [
       "Syncing run <strong><a href='https://wandb.ai/jhu-llm-prompt-recovery/llm-prompt-recovery/runs/ol72y4xz' target=\"_blank\">helpful-planet-187</a></strong> to <a href='https://wandb.ai/jhu-llm-prompt-recovery/llm-prompt-recovery' target=\"_blank\">Weights & Biases</a> (<a href='https://wandb.me/run' target=\"_blank\">docs</a>)<br/>"
      ],
      "text/plain": [
       "<IPython.core.display.HTML object>"
      ]
     },
     "metadata": {},
     "output_type": "display_data"
    },
    {
     "data": {
      "text/html": [
       " View project at <a href='https://wandb.ai/jhu-llm-prompt-recovery/llm-prompt-recovery' target=\"_blank\">https://wandb.ai/jhu-llm-prompt-recovery/llm-prompt-recovery</a>"
      ],
      "text/plain": [
       "<IPython.core.display.HTML object>"
      ]
     },
     "metadata": {},
     "output_type": "display_data"
    },
    {
     "data": {
      "text/html": [
       " View run at <a href='https://wandb.ai/jhu-llm-prompt-recovery/llm-prompt-recovery/runs/ol72y4xz' target=\"_blank\">https://wandb.ai/jhu-llm-prompt-recovery/llm-prompt-recovery/runs/ol72y4xz</a>"
      ],
      "text/plain": [
       "<IPython.core.display.HTML object>"
      ]
     },
     "metadata": {},
     "output_type": "display_data"
    }
   ],
   "source": [
    "run = wandb.init(entity=\"jhu-llm-prompt-recovery\", project=\"llm-prompt-recovery\", job_type=\"hf_dataset_upload\")"
   ]
  },
  {
   "cell_type": "code",
   "execution_count": 11,
   "metadata": {},
   "outputs": [
    {
     "name": "stderr",
     "output_type": "stream",
     "text": [
      "Special tokens have been added in the vocabulary, make sure the associated word embeddings are fine-tuned or trained.\n"
     ]
    }
   ],
   "source": [
    "model_id = \"meta-llama/Meta-Llama-3-8B-Instruct\"\n",
    "tokenizer = transformers.AutoTokenizer.from_pretrained(model_id)"
   ]
  },
  {
   "cell_type": "code",
   "execution_count": 12,
   "metadata": {},
   "outputs": [
    {
     "name": "stderr",
     "output_type": "stream",
     "text": [
      "\u001b[34m\u001b[1mwandb\u001b[0m:   2 of 2 files downloaded.  \n",
      "Generating train split: 1260 examples [00:00, 4815.22 examples/s]\n",
      "Generating validation split: 180 examples [00:00, 52479.82 examples/s]\n",
      "Generating test split: 360 examples [00:00, 4121.72 examples/s]\n",
      "Creating parquet from Arrow format: 100%|██████████| 2/2 [00:00<00:00, 85.04ba/s]\n",
      "Uploading the dataset shards: 100%|██████████| 1/1 [00:00<00:00,  1.73it/s]\n",
      "Creating parquet from Arrow format: 100%|██████████| 1/1 [00:00<00:00, 813.01ba/s]\n",
      "Uploading the dataset shards: 100%|██████████| 1/1 [00:00<00:00,  3.80it/s]\n",
      "Creating parquet from Arrow format: 100%|██████████| 1/1 [00:00<00:00, 227.73ba/s]\n",
      "Uploading the dataset shards: 100%|██████████| 1/1 [00:00<00:00,  2.85it/s]\n",
      "Generating train split: 1260 examples [00:00, 4929.82 examples/s]\n",
      "Generating validation split: 180 examples [00:00, 57724.19 examples/s]\n",
      "Generating test split: 360 examples [00:00, 4080.00 examples/s]\n",
      "Creating parquet from Arrow format: 100%|██████████| 2/2 [00:00<00:00, 55.14ba/s]\n",
      "Uploading the dataset shards: 100%|██████████| 1/1 [00:00<00:00,  1.80it/s]\n",
      "Creating parquet from Arrow format: 100%|██████████| 1/1 [00:00<00:00, 863.74ba/s]\n",
      "Uploading the dataset shards: 100%|██████████| 1/1 [00:00<00:00,  3.70it/s]\n",
      "Creating parquet from Arrow format: 100%|██████████| 1/1 [00:00<00:00, 156.74ba/s]\n",
      "Uploading the dataset shards: 100%|██████████| 1/1 [00:00<00:00,  3.04it/s]\n",
      "Generating train split: 1260 examples [00:00, 6851.72 examples/s]\n",
      "Generating validation split: 180 examples [00:00, 63614.32 examples/s]\n",
      "Generating test split: 360 examples [00:00, 4459.28 examples/s]\n",
      "Creating parquet from Arrow format: 100%|██████████| 2/2 [00:00<00:00, 69.24ba/s]\n",
      "Uploading the dataset shards: 100%|██████████| 1/1 [00:00<00:00,  1.81it/s]\n",
      "Creating parquet from Arrow format: 100%|██████████| 1/1 [00:00<00:00, 904.14ba/s]\n",
      "Uploading the dataset shards: 100%|██████████| 1/1 [00:00<00:00,  2.39it/s]\n",
      "Creating parquet from Arrow format: 100%|██████████| 1/1 [00:00<00:00, 168.05ba/s]\n",
      "Uploading the dataset shards: 100%|██████████| 1/1 [00:00<00:00,  2.55it/s]\n"
     ]
    }
   ],
   "source": [
    "for dataset in DATASETS:\n",
    "    artifact = run.use_artifact(f\"{dataset}:latest\")\n",
    "\n",
    "    dataset_dir = Path(artifact.download())\n",
    "\n",
    "    simplified_dir = dataset_dir.joinpath(\"simplified\")\n",
    "    os.makedirs(simplified_dir, exist_ok=True)\n",
    "    \n",
    "    original_test = json.load(open(f\"{str(dataset_dir)}/test.json\"))\n",
    "    original_train = json.load(open(f\"{str(dataset_dir)}/train.json\"))\n",
    "\n",
    "    simplified_test = [{\n",
    "        \"original_text\": data['original_text']['text'],\n",
    "        \"prompt\": data['instruction']['prompt'],\n",
    "        \"rewritten_text\": data['rewritten_text']\n",
    "    } for data in original_test]\n",
    "    json.dump(simplified_test, open(f\"{str(simplified_dir)}/test.json\", \"w\"))\n",
    "    \n",
    "    simplified_train = [{\n",
    "        \"original_text\": data['original_text']['text'],\n",
    "        \"prompt\": data['instruction']['prompt'],\n",
    "        \"rewritten_text\": data['rewritten_text']\n",
    "    } for data in original_train]\n",
    "\n",
    "    len_validation = 0.125*len(simplified_train)\n",
    "    len_train = len(simplified_train) - len_validation\n",
    "\n",
    "    simplified_validation = simplified_train[:int(len_validation)]\n",
    "    simplified_train = simplified_train[int(len_validation):]\n",
    "\n",
    "    json.dump(simplified_train, open(f\"{str(simplified_dir)}/train.json\", \"w\"))\n",
    "    json.dump(simplified_validation, open(f\"{str(simplified_dir)}/validation.json\", \"w\"))\n",
    "\n",
    "    dname = dataset_dir.stem.split(\":\")[0].split(\"-\")[0]\n",
    "\n",
    "    dataset = load_dataset(str(simplified_dir))\n",
    "    dataset.push_to_hub(f\"prompt-recovery\", dname)\n",
    "\n",
    "    llama_dir = dataset_dir.joinpath(\"llama\")\n",
    "    os.makedirs(llama_dir, exist_ok=True)\n",
    "\n",
    "    llama_train = list()\n",
    "\n",
    "    for sample in simplified_train:\n",
    "        messages = [\n",
    "            {\"role\": \"system\", \"content\": \"Find the AI prompt used to rewrite the old text into the new text.\"},\n",
    "            {\"role\": \"user\", \"content\": f\"Old Text: {sample['original_text']} New Text: {sample['rewritten_text']}\"},\n",
    "        ]\n",
    "\n",
    "        prompt = tokenizer.apply_chat_template(\n",
    "                messages, \n",
    "                tokenize=False, \n",
    "                add_generation_prompt=True\n",
    "        )\n",
    "\n",
    "        llama_train.append({\n",
    "            \"prompt\": prompt,\n",
    "            \"completion\": sample['prompt']\n",
    "        })\n",
    "\n",
    "    llama_validation = list()\n",
    "    for sample in simplified_validation:\n",
    "        messages = [\n",
    "            {\"role\": \"system\", \"content\": \"Find the AI prompt used to rewrite the old text into the new text.\"},\n",
    "            {\"role\": \"user\", \"content\": f\"Old Text: {sample['original_text']} New Text: {sample['rewritten_text']}\"},\n",
    "        ]\n",
    "\n",
    "        prompt = tokenizer.apply_chat_template(\n",
    "                messages, \n",
    "                tokenize=False, \n",
    "                add_generation_prompt=True\n",
    "        )\n",
    "\n",
    "        llama_validation.append({\n",
    "            \"prompt\": prompt,\n",
    "            \"completion\": sample['prompt']\n",
    "        })\n",
    "\n",
    "    llama_test = list()\n",
    "    for sample in simplified_test:\n",
    "        messages = [\n",
    "            {\"role\": \"system\", \"content\": \"Find the AI prompt used to rewrite the old text into the new text.\"},\n",
    "            {\"role\": \"user\", \"content\": f\"Old Text: {sample['original_text']} New Text: {sample['rewritten_text']}\"},\n",
    "        ]\n",
    "\n",
    "        prompt = tokenizer.apply_chat_template(\n",
    "                messages, \n",
    "                tokenize=False, \n",
    "                add_generation_prompt=True\n",
    "        )\n",
    "\n",
    "        llama_test.append({\n",
    "            \"prompt\": prompt,\n",
    "            \"completion\": sample['prompt']\n",
    "        })\n",
    "\n",
    "    json.dump(llama_train, open(f\"{str(llama_dir)}/train.json\", \"w\"))\n",
    "    json.dump(llama_validation, open(f\"{str(llama_dir)}/validation.json\", \"w\"))\n",
    "    json.dump(llama_test, open(f\"{str(llama_dir)}/test.json\", \"w\"))\n",
    "    \n",
    "    dname = dname + \"-llama\"\n",
    "\n",
    "    dataset = load_dataset(str(llama_dir))\n",
    "    dataset.push_to_hub(f\"prompt-recovery\", dname)\n",
    "\n",
    "    instr_dir = dataset_dir.joinpath(\"llama\")\n",
    "    os.makedirs(instr_dir, exist_ok=True)\n",
    "\n",
    "    instr_train = list()\n",
    "\n",
    "    for sample in simplified_train:\n",
    "\n",
    "        instr_train.append({\n",
    "            \"prompt\": f\"Find the AI prompt used to rewrite the old text into the new text.\\nOld Text: {sample['original_text']}\\nNew Text: {sample['rewritten_text']}\",\n",
    "            \"completion\": sample['prompt']\n",
    "        })\n",
    "\n",
    "    instr_validation = list()\n",
    "    for sample in simplified_validation:\n",
    "        \n",
    "\n",
    "        instr_validation.append({\n",
    "            \"prompt\": f\"Find the AI prompt used to rewrite the old text into the new text.\\nOld Text: {sample['original_text']}\\nNew Text: {sample['rewritten_text']}\",\n",
    "            \"completion\": sample['prompt']\n",
    "        })\n",
    "\n",
    "    instr_test = list()\n",
    "    for sample in simplified_test:\n",
    "\n",
    "        instr_test.append({\n",
    "            \"prompt\": f\"Find the AI prompt used to rewrite the old text into the new text.\\nOld Text: {sample['original_text']}\\nNew Text: {sample['rewritten_text']}\",\n",
    "            \"completion\": sample['prompt']\n",
    "        })\n",
    "\n",
    "    json.dump(instr_train, open(f\"{str(instr_dir)}/train.json\", \"w\"))\n",
    "    json.dump(instr_validation, open(f\"{str(instr_dir)}/validation.json\", \"w\"))\n",
    "    json.dump(instr_test, open(f\"{str(instr_dir)}/test.json\", \"w\"))\n",
    "\n",
    "    dname = dname + \"-instr\"\n",
    "\n",
    "    dataset = load_dataset(str(instr_dir))\n",
    "    dataset.push_to_hub(f\"prompt-recovery\", dname)\n",
    "\n"
   ]
  },
  {
   "cell_type": "code",
   "execution_count": 13,
   "metadata": {},
   "outputs": [
    {
     "data": {
      "text/html": [
       " View run <strong style=\"color:#cdcd00\">helpful-planet-187</strong> at: <a href='https://wandb.ai/jhu-llm-prompt-recovery/llm-prompt-recovery/runs/ol72y4xz' target=\"_blank\">https://wandb.ai/jhu-llm-prompt-recovery/llm-prompt-recovery/runs/ol72y4xz</a><br/> View project at: <a href='https://wandb.ai/jhu-llm-prompt-recovery/llm-prompt-recovery' target=\"_blank\">https://wandb.ai/jhu-llm-prompt-recovery/llm-prompt-recovery</a><br/>Synced 5 W&B file(s), 0 media file(s), 0 artifact file(s) and 0 other file(s)"
      ],
      "text/plain": [
       "<IPython.core.display.HTML object>"
      ]
     },
     "metadata": {},
     "output_type": "display_data"
    },
    {
     "data": {
      "text/html": [
       "Find logs at: <code>./wandb/run-20240513_000518-ol72y4xz/logs</code>"
      ],
      "text/plain": [
       "<IPython.core.display.HTML object>"
      ]
     },
     "metadata": {},
     "output_type": "display_data"
    }
   ],
   "source": [
    "run.finish()"
   ]
  }
 ],
 "metadata": {
  "kernelspec": {
   "display_name": "Python 3",
   "language": "python",
   "name": "python3"
  },
  "language_info": {
   "codemirror_mode": {
    "name": "ipython",
    "version": 3
   },
   "file_extension": ".py",
   "mimetype": "text/x-python",
   "name": "python",
   "nbconvert_exporter": "python",
   "pygments_lexer": "ipython3",
   "version": "3.11.9"
  }
 },
 "nbformat": 4,
 "nbformat_minor": 2
}
